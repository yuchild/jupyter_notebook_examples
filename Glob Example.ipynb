{
 "cells": [
  {
   "cell_type": "markdown",
   "metadata": {},
   "source": [
    "## Glob Example\n",
    "From: https://www.youtube.com/watch?v=Vc5kGYty18k"
   ]
  },
  {
   "cell_type": "code",
   "execution_count": 1,
   "metadata": {},
   "outputs": [],
   "source": [
    "import os"
   ]
  },
  {
   "cell_type": "code",
   "execution_count": 2,
   "metadata": {},
   "outputs": [
    {
     "data": {
      "text/plain": [
       "['Test.ipynb',\n",
       " 'Pandas Series and Functions.ipynb',\n",
       " 'Pandas Index.ipynb',\n",
       " 'data',\n",
       " 'Python Interview Prep.ipynb',\n",
       " 'Glob Example.ipynb',\n",
       " 'Pandas Tricks.ipynb',\n",
       " 'README.md',\n",
       " '.ipynb_checkpoints',\n",
       " 'Scikit Learn Iris Data.ipynb',\n",
       " '.git',\n",
       " 'Machine Learning.ipynb',\n",
       " 'Working with Time Series.ipynb']"
      ]
     },
     "execution_count": 2,
     "metadata": {},
     "output_type": "execute_result"
    }
   ],
   "source": [
    "os.listdir()"
   ]
  },
  {
   "cell_type": "code",
   "execution_count": 29,
   "metadata": {},
   "outputs": [],
   "source": [
    "paths = os.listdir('/home/chi/Pictures')"
   ]
  },
  {
   "cell_type": "code",
   "execution_count": 30,
   "metadata": {},
   "outputs": [],
   "source": [
    "png_files = []\n",
    "\n",
    "for path in paths:\n",
    "    if path.endswith('.png'):\n",
    "        png_files.append(path)"
   ]
  },
  {
   "cell_type": "code",
   "execution_count": 31,
   "metadata": {},
   "outputs": [
    {
     "data": {
      "text/plain": [
       "['docker_pic.png']"
      ]
     },
     "execution_count": 31,
     "metadata": {},
     "output_type": "execute_result"
    }
   ],
   "source": [
    "png_files"
   ]
  },
  {
   "cell_type": "code",
   "execution_count": 32,
   "metadata": {},
   "outputs": [],
   "source": [
    "import glob"
   ]
  },
  {
   "cell_type": "code",
   "execution_count": 35,
   "metadata": {},
   "outputs": [
    {
     "data": {
      "text/plain": [
       "['/home/chi/Pictures/docker_pic.png']"
      ]
     },
     "execution_count": 35,
     "metadata": {},
     "output_type": "execute_result"
    }
   ],
   "source": [
    "glob.glob('/home/chi/Pictures/*.png')"
   ]
  },
  {
   "cell_type": "code",
   "execution_count": 44,
   "metadata": {},
   "outputs": [
    {
     "data": {
      "text/plain": [
       "['/home/chi/Downloads/bookmarks_12_12_19.html',\n",
       " '/home/chi/Downloads/iris.data',\n",
       " '/home/chi/Downloads/bookmarks_12_14_19.html',\n",
       " '/home/chi/Downloads/Gmail - Health Care Coverage End Date.pdf',\n",
       " '/home/chi/Downloads/yelp_dataset.tar',\n",
       " '/home/chi/Downloads/iris (3).data',\n",
       " '/home/chi/Downloads/docker.pptx',\n",
       " '/home/chi/Downloads/High Performing Teams - Self assessment handout.pdf',\n",
       " '/home/chi/Downloads/yelp_photos.tar',\n",
       " '/home/chi/Downloads/iris (2).data',\n",
       " '/home/chi/Downloads/sql-python-master',\n",
       " '/home/chi/Downloads/docker (1).pptx',\n",
       " '/home/chi/Downloads/sql-python-master.zip',\n",
       " '/home/chi/Downloads/iris (1).data',\n",
       " '/home/chi/Downloads/Working_Style_Inventory.pdf',\n",
       " '/home/chi/Downloads/legend.py']"
      ]
     },
     "execution_count": 44,
     "metadata": {},
     "output_type": "execute_result"
    }
   ],
   "source": [
    "glob.glob('/home/chi/Downloads/*')"
   ]
  },
  {
   "cell_type": "code",
   "execution_count": 47,
   "metadata": {},
   "outputs": [
    {
     "data": {
      "text/plain": [
       "['/home/chi/Downloads/yelp_dataset.tar', '/home/chi/Downloads/yelp_photos.tar']"
      ]
     },
     "execution_count": 47,
     "metadata": {},
     "output_type": "execute_result"
    }
   ],
   "source": [
    "# find .tar files\n",
    "glob.glob('/home/chi/Downloads/*.tar')"
   ]
  },
  {
   "cell_type": "code",
   "execution_count": 50,
   "metadata": {},
   "outputs": [
    {
     "data": {
      "text/plain": [
       "['/home/chi/Downloads/Gmail - Health Care Coverage End Date.pdf',\n",
       " '/home/chi/Downloads/High Performing Teams - Self assessment handout.pdf',\n",
       " '/home/chi/Downloads/Working_Style_Inventory.pdf']"
      ]
     },
     "execution_count": 50,
     "metadata": {},
     "output_type": "execute_result"
    }
   ],
   "source": [
    "glob.glob('/home/chi/Downloads/*.pdf')"
   ]
  },
  {
   "cell_type": "code",
   "execution_count": null,
   "metadata": {},
   "outputs": [],
   "source": []
  }
 ],
 "metadata": {
  "kernelspec": {
   "display_name": "Python 3",
   "language": "python",
   "name": "python3"
  },
  "language_info": {
   "codemirror_mode": {
    "name": "ipython",
    "version": 3
   },
   "file_extension": ".py",
   "mimetype": "text/x-python",
   "name": "python",
   "nbconvert_exporter": "python",
   "pygments_lexer": "ipython3",
   "version": "3.7.3"
  }
 },
 "nbformat": 4,
 "nbformat_minor": 2
}
